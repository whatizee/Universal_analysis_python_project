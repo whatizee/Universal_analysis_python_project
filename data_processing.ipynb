{
 "cells": [
  {
   "cell_type": "code",
   "execution_count": 1,
   "id": "f4e0bd52",
   "metadata": {},
   "outputs": [],
   "source": [
    "def data_process_population():\n",
    "    %run data_collection.ipynb\n",
    "    Population_df = web_scrapper_population()\n",
    "    \n",
    "\n",
    "    Population_df = Population_df.iloc[1:]\n",
    "    # Remove commas from the \"Population\" column\n",
    "    Population_df['Population'] = Population_df['Population'].str.replace(',', '', regex=True)\n",
    "\n",
    "    # Convert the \"Population\" column to int\n",
    "    Population_df['Population'] = Population_df['Population'].astype(int)\n",
    "\n",
    "    # Remove % from the \"% ofworld\" column\n",
    "    Population_df['% ofworld'] = Population_df['% ofworld'].str.replace('%', '', regex=True)\n",
    "\n",
    "    # Convert the \"Population\" column to int\n",
    "    Population_df['% ofworld'] = Population_df['% ofworld'].astype(float)\n",
    "    \n",
    "    print(\"Cleaned and processed data\")\n",
    "    #display(Population_df)\n",
    "    \n",
    "    return Population_df"
   ]
  },
  {
   "cell_type": "code",
   "execution_count": null,
   "id": "e5e3537b",
   "metadata": {},
   "outputs": [],
   "source": []
  }
 ],
 "metadata": {
  "kernelspec": {
   "display_name": "Python 3 (ipykernel)",
   "language": "python",
   "name": "python3"
  },
  "language_info": {
   "codemirror_mode": {
    "name": "ipython",
    "version": 3
   },
   "file_extension": ".py",
   "mimetype": "text/x-python",
   "name": "python",
   "nbconvert_exporter": "python",
   "pygments_lexer": "ipython3",
   "version": "3.8.4"
  }
 },
 "nbformat": 4,
 "nbformat_minor": 5
}
