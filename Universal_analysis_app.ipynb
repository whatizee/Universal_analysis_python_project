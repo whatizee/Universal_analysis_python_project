{
 "cells": [
  {
   "cell_type": "code",
   "execution_count": null,
   "id": "8e1c242c",
   "metadata": {},
   "outputs": [
    {
     "name": "stdout",
     "output_type": "stream",
     "text": [
      "Executing scraping population data from wikipedia........\n",
      "Start Time: 2023-12-04 09:54:11.287201\n",
      "web scraping completed successfully......\n",
      "Data Collected is given below\n",
      "Cleaned and processed data\n",
      "Executing scraping population data from wikipedia........\n",
      "Executing scraping List of Canadian Insurance Companies from wikipedia........\n"
     ]
    },
    {
     "name": "stderr",
     "output_type": "stream",
     "text": [
      "C:\\Users\\Jibin\\AppData\\Local\\Temp\\ipykernel_18556\\1634252968.py:34: FutureWarning: The frame.append method is deprecated and will be removed from pandas in a future version. Use pandas.concat instead.\n",
      "  df_insurance = df_insurance.append(pd.Series(column_data, index=headers), ignore_index=True)\n",
      "C:\\Users\\Jibin\\AppData\\Local\\Temp\\ipykernel_18556\\1634252968.py:34: FutureWarning: The frame.append method is deprecated and will be removed from pandas in a future version. Use pandas.concat instead.\n",
      "  df_insurance = df_insurance.append(pd.Series(column_data, index=headers), ignore_index=True)\n",
      "C:\\Users\\Jibin\\AppData\\Local\\Temp\\ipykernel_18556\\1634252968.py:34: FutureWarning: The frame.append method is deprecated and will be removed from pandas in a future version. Use pandas.concat instead.\n",
      "  df_insurance = df_insurance.append(pd.Series(column_data, index=headers), ignore_index=True)\n",
      "C:\\Users\\Jibin\\AppData\\Local\\Temp\\ipykernel_18556\\1634252968.py:34: FutureWarning: The frame.append method is deprecated and will be removed from pandas in a future version. Use pandas.concat instead.\n",
      "  df_insurance = df_insurance.append(pd.Series(column_data, index=headers), ignore_index=True)\n",
      "C:\\Users\\Jibin\\AppData\\Local\\Temp\\ipykernel_18556\\1634252968.py:34: FutureWarning: The frame.append method is deprecated and will be removed from pandas in a future version. Use pandas.concat instead.\n",
      "  df_insurance = df_insurance.append(pd.Series(column_data, index=headers), ignore_index=True)\n",
      "C:\\Users\\Jibin\\AppData\\Local\\Temp\\ipykernel_18556\\1634252968.py:34: FutureWarning: The frame.append method is deprecated and will be removed from pandas in a future version. Use pandas.concat instead.\n",
      "  df_insurance = df_insurance.append(pd.Series(column_data, index=headers), ignore_index=True)\n",
      "C:\\Users\\Jibin\\AppData\\Local\\Temp\\ipykernel_18556\\1634252968.py:34: FutureWarning: The frame.append method is deprecated and will be removed from pandas in a future version. Use pandas.concat instead.\n",
      "  df_insurance = df_insurance.append(pd.Series(column_data, index=headers), ignore_index=True)\n",
      "C:\\Users\\Jibin\\AppData\\Local\\Temp\\ipykernel_18556\\1634252968.py:34: FutureWarning: The frame.append method is deprecated and will be removed from pandas in a future version. Use pandas.concat instead.\n",
      "  df_insurance = df_insurance.append(pd.Series(column_data, index=headers), ignore_index=True)\n",
      "C:\\Users\\Jibin\\AppData\\Local\\Temp\\ipykernel_18556\\1634252968.py:34: FutureWarning: The frame.append method is deprecated and will be removed from pandas in a future version. Use pandas.concat instead.\n",
      "  df_insurance = df_insurance.append(pd.Series(column_data, index=headers), ignore_index=True)\n",
      "C:\\Users\\Jibin\\AppData\\Local\\Temp\\ipykernel_18556\\1634252968.py:34: FutureWarning: The frame.append method is deprecated and will be removed from pandas in a future version. Use pandas.concat instead.\n",
      "  df_insurance = df_insurance.append(pd.Series(column_data, index=headers), ignore_index=True)\n",
      "C:\\Users\\Jibin\\AppData\\Local\\Temp\\ipykernel_18556\\1634252968.py:34: FutureWarning: The frame.append method is deprecated and will be removed from pandas in a future version. Use pandas.concat instead.\n",
      "  df_insurance = df_insurance.append(pd.Series(column_data, index=headers), ignore_index=True)\n",
      "C:\\Users\\Jibin\\AppData\\Local\\Temp\\ipykernel_18556\\1634252968.py:34: FutureWarning: The frame.append method is deprecated and will be removed from pandas in a future version. Use pandas.concat instead.\n",
      "  df_insurance = df_insurance.append(pd.Series(column_data, index=headers), ignore_index=True)\n",
      "C:\\Users\\Jibin\\AppData\\Local\\Temp\\ipykernel_18556\\1634252968.py:34: FutureWarning: The frame.append method is deprecated and will be removed from pandas in a future version. Use pandas.concat instead.\n",
      "  df_insurance = df_insurance.append(pd.Series(column_data, index=headers), ignore_index=True)\n",
      "C:\\Users\\Jibin\\AppData\\Local\\Temp\\ipykernel_18556\\1634252968.py:34: FutureWarning: The frame.append method is deprecated and will be removed from pandas in a future version. Use pandas.concat instead.\n",
      "  df_insurance = df_insurance.append(pd.Series(column_data, index=headers), ignore_index=True)\n",
      "C:\\Users\\Jibin\\AppData\\Local\\Temp\\ipykernel_18556\\1634252968.py:34: FutureWarning: The frame.append method is deprecated and will be removed from pandas in a future version. Use pandas.concat instead.\n",
      "  df_insurance = df_insurance.append(pd.Series(column_data, index=headers), ignore_index=True)\n",
      "C:\\Users\\Jibin\\AppData\\Local\\Temp\\ipykernel_18556\\1634252968.py:34: FutureWarning: The frame.append method is deprecated and will be removed from pandas in a future version. Use pandas.concat instead.\n",
      "  df_insurance = df_insurance.append(pd.Series(column_data, index=headers), ignore_index=True)\n",
      "C:\\Users\\Jibin\\AppData\\Local\\Temp\\ipykernel_18556\\1634252968.py:34: FutureWarning: The frame.append method is deprecated and will be removed from pandas in a future version. Use pandas.concat instead.\n",
      "  df_insurance = df_insurance.append(pd.Series(column_data, index=headers), ignore_index=True)\n",
      "C:\\Users\\Jibin\\AppData\\Local\\Temp\\ipykernel_18556\\1634252968.py:34: FutureWarning: The frame.append method is deprecated and will be removed from pandas in a future version. Use pandas.concat instead.\n",
      "  df_insurance = df_insurance.append(pd.Series(column_data, index=headers), ignore_index=True)\n",
      "C:\\Users\\Jibin\\AppData\\Local\\Temp\\ipykernel_18556\\1634252968.py:34: FutureWarning: The frame.append method is deprecated and will be removed from pandas in a future version. Use pandas.concat instead.\n",
      "  df_insurance = df_insurance.append(pd.Series(column_data, index=headers), ignore_index=True)\n",
      "C:\\Users\\Jibin\\AppData\\Local\\Temp\\ipykernel_18556\\1634252968.py:34: FutureWarning: The frame.append method is deprecated and will be removed from pandas in a future version. Use pandas.concat instead.\n",
      "  df_insurance = df_insurance.append(pd.Series(column_data, index=headers), ignore_index=True)\n",
      "C:\\Users\\Jibin\\AppData\\Local\\Temp\\ipykernel_18556\\1634252968.py:34: FutureWarning: The frame.append method is deprecated and will be removed from pandas in a future version. Use pandas.concat instead.\n",
      "  df_insurance = df_insurance.append(pd.Series(column_data, index=headers), ignore_index=True)\n",
      "C:\\Users\\Jibin\\AppData\\Local\\Temp\\ipykernel_18556\\1634252968.py:34: FutureWarning: The frame.append method is deprecated and will be removed from pandas in a future version. Use pandas.concat instead.\n",
      "  df_insurance = df_insurance.append(pd.Series(column_data, index=headers), ignore_index=True)\n",
      "C:\\Users\\Jibin\\AppData\\Local\\Temp\\ipykernel_18556\\1634252968.py:34: FutureWarning: The frame.append method is deprecated and will be removed from pandas in a future version. Use pandas.concat instead.\n",
      "  df_insurance = df_insurance.append(pd.Series(column_data, index=headers), ignore_index=True)\n",
      "C:\\Users\\Jibin\\AppData\\Local\\Temp\\ipykernel_18556\\1634252968.py:34: FutureWarning: The frame.append method is deprecated and will be removed from pandas in a future version. Use pandas.concat instead.\n",
      "  df_insurance = df_insurance.append(pd.Series(column_data, index=headers), ignore_index=True)\n",
      "C:\\Users\\Jibin\\AppData\\Local\\Temp\\ipykernel_18556\\1634252968.py:34: FutureWarning: The frame.append method is deprecated and will be removed from pandas in a future version. Use pandas.concat instead.\n",
      "  df_insurance = df_insurance.append(pd.Series(column_data, index=headers), ignore_index=True)\n",
      "C:\\Users\\Jibin\\AppData\\Local\\Temp\\ipykernel_18556\\1634252968.py:34: FutureWarning: The frame.append method is deprecated and will be removed from pandas in a future version. Use pandas.concat instead.\n",
      "  df_insurance = df_insurance.append(pd.Series(column_data, index=headers), ignore_index=True)\n",
      "C:\\Users\\Jibin\\AppData\\Local\\Temp\\ipykernel_18556\\1634252968.py:34: FutureWarning: The frame.append method is deprecated and will be removed from pandas in a future version. Use pandas.concat instead.\n",
      "  df_insurance = df_insurance.append(pd.Series(column_data, index=headers), ignore_index=True)\n",
      "C:\\Users\\Jibin\\AppData\\Local\\Temp\\ipykernel_18556\\1634252968.py:34: FutureWarning: The frame.append method is deprecated and will be removed from pandas in a future version. Use pandas.concat instead.\n",
      "  df_insurance = df_insurance.append(pd.Series(column_data, index=headers), ignore_index=True)\n"
     ]
    },
    {
     "name": "stdout",
     "output_type": "stream",
     "text": [
      "Total Scrapping for Population data Time: 0:00:00.329739\n",
      " * Serving Flask app '__main__'\n",
      " * Debug mode: off\n"
     ]
    },
    {
     "name": "stderr",
     "output_type": "stream",
     "text": [
      "WARNING: This is a development server. Do not use it in a production deployment. Use a production WSGI server instead.\n",
      " * Running on http://127.0.0.1:5000\n",
      "Press CTRL+C to quit\n",
      "127.0.0.1 - - [04/Dec/2023 09:54:16] \"GET / HTTP/1.1\" 200 -\n",
      "127.0.0.1 - - [04/Dec/2023 09:54:18] \"GET /Top_20_peace_index HTTP/1.1\" 200 -\n",
      "127.0.0.1 - - [04/Dec/2023 09:54:22] \"GET / HTTP/1.1\" 200 -\n",
      "127.0.0.1 - - [04/Dec/2023 09:58:31] \"GET /Top_20_peace_index HTTP/1.1\" 200 -\n",
      "127.0.0.1 - - [04/Dec/2023 09:58:42] \"GET / HTTP/1.1\" 200 -\n"
     ]
    }
   ],
   "source": [
    "%run database.ipynb\n",
    "# Import necessary modules\n",
    "import sqlite3\n",
    "from flask import Flask, render_template\n",
    "\n",
    "# Create a Flask app\n",
    "app = Flask(__name__)\n",
    "\n",
    "# Define routes and functions\n",
    "@app.route('/')\n",
    "def index():\n",
    "    return render_template(\"Home.html\")\n",
    "\n",
    "@app.route('/get_population', methods=['GET'])\n",
    "def get_population():\n",
    "    # Connect to the SQLite database\n",
    "    total_population = fetch_population()\n",
    "\n",
    "    # Render the population data as a table using the HTML template\n",
    "    return render_template('population_table.html', population=total_population)\n",
    "\n",
    "@app.route('/about')\n",
    "def about():\n",
    "    return render_template(\"about.html\")\n",
    "\n",
    "@app.route('/data_description')\n",
    "def data_description():\n",
    "    return render_template(\"data_description.html\")\n",
    "@app.route('/Top_ten_insurance_company')\n",
    "def Top_ten_insurance_company():\n",
    "    total_insurance = fetch_insurance()\n",
    "    return render_template(\"Top_ten_insurance_company.html\", Insurance =total_insurance)\n",
    "\n",
    "@app.route('/Top_20_peace_index')\n",
    "def Top_ten_football_clubs():\n",
    "    total_peace_index = fetch_peace_index()\n",
    "    return render_template(\"Top_20_peace_index.html\", peace_index =total_peace_index)\n",
    "\n",
    "# Run the Flask app if this script is the main program\n",
    "if __name__ == '__main__':\n",
    "    app.run()\n"
   ]
  },
  {
   "cell_type": "code",
   "execution_count": null,
   "id": "8e845952",
   "metadata": {},
   "outputs": [],
   "source": []
  },
  {
   "cell_type": "code",
   "execution_count": null,
   "id": "c82dc11f",
   "metadata": {},
   "outputs": [],
   "source": []
  },
  {
   "cell_type": "code",
   "execution_count": null,
   "id": "de355e76",
   "metadata": {},
   "outputs": [],
   "source": []
  }
 ],
 "metadata": {
  "kernelspec": {
   "display_name": "Python 3 (ipykernel)",
   "language": "python",
   "name": "python3"
  },
  "language_info": {
   "codemirror_mode": {
    "name": "ipython",
    "version": 3
   },
   "file_extension": ".py",
   "mimetype": "text/x-python",
   "name": "python",
   "nbconvert_exporter": "python",
   "pygments_lexer": "ipython3",
   "version": "3.8.4"
  }
 },
 "nbformat": 4,
 "nbformat_minor": 5
}
